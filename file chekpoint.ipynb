{
 "cells": [
  {
   "cell_type": "code",
   "execution_count": 42,
   "id": "382def26",
   "metadata": {},
   "outputs": [],
   "source": [
    "file = open(\"python.txt\",'r')"
   ]
  },
  {
   "cell_type": "code",
   "execution_count": 43,
   "id": "c0cd8958",
   "metadata": {},
   "outputs": [
    {
     "data": {
      "text/plain": [
       "'What is Python language?                                                \\nPython is a widely used high-level, general-purpose, interpreted, dynamic programming language.Its design philosophy emphasizes code readability, and its syntax allows programmers to express concepts in fewer lines of code than possible in \\nlanguages such as C++ or Java. \\nPython supports multiple programming paradigms, including object-oriented, imperative and functional programming or procedural styles. It features a dynamic type system and automatic memory management and has a large and comprehensive standard library.The best way we learn anything is by practice and exercise questions. We  have started this section for those (beginner to intermediate) who are familiar with Python.'"
      ]
     },
     "execution_count": 43,
     "metadata": {},
     "output_type": "execute_result"
    }
   ],
   "source": [
    "file.read()"
   ]
  },
  {
   "cell_type": "code",
   "execution_count": 23,
   "id": "42bbf661",
   "metadata": {},
   "outputs": [
    {
     "name": "stdout",
     "output_type": "stream",
     "text": [
      "['What is Python language?                                                \\n', 'Python is a widely used high-level, general-purpose, interpreted, dynamic programming language.Its design philosophy emphasizes code readability, and its syntax allows programmers to express concepts in fewer lines of code than possible in \\n']\n"
     ]
    }
   ],
   "source": [
    "with open(\"python.txt\") as file:\n",
    "    head = [next(file) for x in range(N)]\n",
    "print(head)\n"
   ]
  },
  {
   "cell_type": "code",
   "execution_count": 34,
   "id": "53435f29",
   "metadata": {},
   "outputs": [],
   "source": [
    "with open(\"python.txt\") as file:\n",
    "    for line in file:\n",
    "        pass\n",
    "    last_line = line"
   ]
  },
  {
   "cell_type": "code",
   "execution_count": 35,
   "id": "b88ea86c",
   "metadata": {},
   "outputs": [
    {
     "data": {
      "text/plain": [
       "'Python supports multiple programming paradigms, including object-oriented, imperative and functional programming or procedural styles. It features a dynamic type system and automatic memory management and has a large and comprehensive standard library.The best way we learn anything is by practice and exercise questions. We  have started this section for those (beginner to intermediate) who are familiar with Python.'"
      ]
     },
     "execution_count": 35,
     "metadata": {},
     "output_type": "execute_result"
    }
   ],
   "source": [
    "last_line"
   ]
  },
  {
   "cell_type": "code",
   "execution_count": 8,
   "id": "9482c24e",
   "metadata": {},
   "outputs": [
    {
     "name": "stdout",
     "output_type": "stream",
     "text": [
      "100\n"
     ]
    }
   ],
   "source": [
    "with open('python.txt','r+') as f:\n",
    "    lines=f.read()\n",
    "    words=lines.split()\n",
    "    print(len(words))"
   ]
  },
  {
   "cell_type": "code",
   "execution_count": null,
   "id": "2c2518ae",
   "metadata": {},
   "outputs": [],
   "source": []
  }
 ],
 "metadata": {
  "kernelspec": {
   "display_name": "Python 3 (ipykernel)",
   "language": "python",
   "name": "python3"
  },
  "language_info": {
   "codemirror_mode": {
    "name": "ipython",
    "version": 3
   },
   "file_extension": ".py",
   "mimetype": "text/x-python",
   "name": "python",
   "nbconvert_exporter": "python",
   "pygments_lexer": "ipython3",
   "version": "3.9.12"
  }
 },
 "nbformat": 4,
 "nbformat_minor": 5
}
